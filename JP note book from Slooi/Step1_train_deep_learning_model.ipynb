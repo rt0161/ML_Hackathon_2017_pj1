{
 "cells": [
  {
   "cell_type": "code",
   "execution_count": 1,
   "metadata": {},
   "outputs": [
    {
     "name": "stderr",
     "output_type": "stream",
     "text": [
      "Using TensorFlow backend.\n"
     ]
    }
   ],
   "source": [
    "import numpy as np\n",
    "from matplotlib import pyplot as plt\n",
    "from sklearn import metrics\n",
    "from keras.applications.vgg16 import VGG16\n",
    "from keras.models import Model\n",
    "from keras.layers import Dense, Conv2D, Dropout, BatchNormalization, Activation, GlobalMaxPool2D\n",
    "from keras.optimizers import SGD\n",
    "import time\n",
    "import datetime\n",
    "\n",
    "%matplotlib inline\n",
    "np.set_printoptions(linewidth=120)\n",
    "plt.rcParams['figure.figsize'] = (19, 13)"
   ]
  },
  {
   "cell_type": "markdown",
   "metadata": {},
   "source": [
    "# Problem Formulation\n",
    "\n",
    "The dataset consists of 1042 shot gathers before and after AAA, represented as color images. We would like to train a convolutional neural network to perform binary classification.\n",
    "\n",
    "The features (X) are the 621 by 512 color images and the prediction is whether there is too much signal leakage after AAA (FAIL = 0) or if it is acceptable (PASS = 1)"
   ]
  },
  {
   "cell_type": "code",
   "execution_count": 2,
   "metadata": {
    "collapsed": true
   },
   "outputs": [],
   "source": [
    "# read in data and store in RAM\n",
    "path = 'D:/Projects/eh17_NAM/Machine_Learning/AAA_QC/numpy_data/'\n",
    "tmp = np.load(path + 'RevXII_RawData.npz')"
   ]
  },
  {
   "cell_type": "code",
   "execution_count": 3,
   "metadata": {},
   "outputs": [
    {
     "name": "stdout",
     "output_type": "stream",
     "text": [
      "(1042, 621, 512, 3)\n",
      "(1042,)\n",
      "(1042,)\n",
      "3.638671875 MB per shot\n"
     ]
    }
   ],
   "source": [
    "X_all = tmp['X_raw_all']\n",
    "print(X_all.shape)\n",
    "\n",
    "Y_all = tmp['Y_all']\n",
    "print(Y_all.shape)\n",
    "\n",
    "shot_id = tmp['shot_id']\n",
    "print(shot_id.shape)\n",
    "\n",
    "print(4*np.product(X_all[0].shape)/1024/1024, 'MB per shot')"
   ]
  },
  {
   "cell_type": "code",
   "execution_count": 4,
   "metadata": {},
   "outputs": [
    {
     "data": {
      "text/plain": [
       "array([19576, 19580, 19584, 19588, 19592, 19596, 19600, 19604, 19608, 19612])"
      ]
     },
     "execution_count": 4,
     "metadata": {},
     "output_type": "execute_result"
    }
   ],
   "source": [
    "shot_id[:10]"
   ]
  },
  {
   "cell_type": "markdown",
   "metadata": {},
   "source": [
    "# Step 1a Define Weights to Overcome Class Imbalance\n",
    "\n",
    "The dataset consists of 1042 shot gathers before and after AAA, represented as color images. We would like to train a convolutional neural network to perform binary classification.\n",
    "\n",
    "The features (X) are the 621 by 512 color images and the prediction is whether there is too much signal leakage after AAA (FAIL = 0) or if it is acceptable (PASS = 1)"
   ]
  },
  {
   "cell_type": "code",
   "execution_count": 5,
   "metadata": {},
   "outputs": [
    {
     "data": {
      "text/plain": [
       "0.78502879078694821"
      ]
     },
     "execution_count": 5,
     "metadata": {},
     "output_type": "execute_result"
    }
   ],
   "source": [
    "np.sum(Y_all)/len(Y_all)"
   ]
  },
  {
   "cell_type": "markdown",
   "metadata": {},
   "source": [
    "Only about 22% of shots are marked as FAIL, ideally it's better to train model with 50-50 datasets. This is a common occurence and it is known in the literature as Class Imbalance\n",
    "\n",
    "There are many ways to handle this but the way we do it here is to weigh the minority class higher in training"
   ]
  },
  {
   "cell_type": "code",
   "execution_count": 6,
   "metadata": {
    "collapsed": true
   },
   "outputs": [],
   "source": [
    "# compute weights to normalize class imbalance\n",
    "W_all = np.zeros_like(Y_all).astype(np.int)\n",
    "W_all[Y_all == 0] = 3\n",
    "W_all += 1"
   ]
  },
  {
   "cell_type": "markdown",
   "metadata": {},
   "source": [
    "# Step 1b Define Convolutional Neural Network\n",
    "\n",
    "Rather than training a model from scratch, we will be using a trained ConvNet called VGG16 (actually just the first two blocks) and stitch a few layers of untrained neural networks to it.\n",
    "\n",
    "\n",
    "Note that the final layer is a single neuron outputting values from 0 to 1"
   ]
  },
  {
   "cell_type": "code",
   "execution_count": 10,
   "metadata": {},
   "outputs": [
    {
     "data": {
      "text/html": [
       "<img src=\"https://www.cs.toronto.edu/~frossard/post/vgg16/vgg16.png\" width=\"1200\"/>"
      ],
      "text/plain": [
       "<IPython.core.display.Image object>"
      ]
     },
     "execution_count": 10,
     "metadata": {},
     "output_type": "execute_result"
    }
   ],
   "source": [
    "from IPython.display import Image\n",
    "from IPython.core.display import HTML \n",
    "Image(url= \"https://www.cs.toronto.edu/~frossard/post/vgg16/vgg16.png\", width=1200)"
   ]
  },
  {
   "cell_type": "code",
   "execution_count": 7,
   "metadata": {
    "collapsed": true
   },
   "outputs": [],
   "source": [
    "# stitch layers to the VGG16 layers\n",
    "orig_VGG16 = VGG16(weights='imagenet', include_top=False)\n",
    "\n",
    "num_filters = 64\n",
    "dropout_prob = 0.55\n",
    "x = orig_VGG16.get_layer('block2_pool').output\n",
    "x = Conv2D(num_filters, (1, 1), activation='relu', padding='same', name='block6_conv1')(x)\n",
    "x = GlobalMaxPool2D(name='block6_pool')(x)\n",
    "x = Dropout(dropout_prob)(x)\n",
    "\n",
    "x = Dense(num_filters)(x)\n",
    "x = BatchNormalization()(x)\n",
    "x = Activation('relu')(x)\n",
    "x = Dropout(dropout_prob)(x)\n",
    "\n",
    "prediction = Dense(1, activation='sigmoid')(x)\n",
    "model = Model(inputs=orig_VGG16.input, outputs=prediction)"
   ]
  },
  {
   "cell_type": "markdown",
   "metadata": {},
   "source": [
    "# Step 1c Train Fresh Layers\n",
    "\n",
    "The training will be done in several stages. First, we freeze all the layers from VGG16 (i.e. the weights in those layers will not be updated) and just train the newly added layers."
   ]
  },
  {
   "cell_type": "code",
   "execution_count": 8,
   "metadata": {},
   "outputs": [
    {
     "name": "stdout",
     "output_type": "stream",
     "text": [
      "0 True input_1\n",
      "1 False block1_conv1\n",
      "2 False block1_conv2\n",
      "3 False block1_pool\n",
      "4 False block2_conv1\n",
      "5 False block2_conv2\n",
      "6 False block2_pool\n",
      "7 True block6_conv1\n",
      "8 True block6_pool\n",
      "9 True dropout_1\n",
      "10 True dense_1\n",
      "11 True batch_normalization_1\n",
      "12 True activation_1\n",
      "13 True dropout_2\n",
      "14 True dense_2\n",
      "____________________________________________________________________________________________________\n",
      "Layer (type)                                 Output Shape                            Param #        \n",
      "====================================================================================================\n",
      "input_1 (InputLayer)                         (None, None, None, 3)                   0              \n",
      "____________________________________________________________________________________________________\n",
      "block1_conv1 (Conv2D)                        (None, None, None, 64)                  1792           \n",
      "____________________________________________________________________________________________________\n",
      "block1_conv2 (Conv2D)                        (None, None, None, 64)                  36928          \n",
      "____________________________________________________________________________________________________\n",
      "block1_pool (MaxPooling2D)                   (None, None, None, 64)                  0              \n",
      "____________________________________________________________________________________________________\n",
      "block2_conv1 (Conv2D)                        (None, None, None, 128)                 73856          \n",
      "____________________________________________________________________________________________________\n",
      "block2_conv2 (Conv2D)                        (None, None, None, 128)                 147584         \n",
      "____________________________________________________________________________________________________\n",
      "block2_pool (MaxPooling2D)                   (None, None, None, 128)                 0              \n",
      "____________________________________________________________________________________________________\n",
      "block6_conv1 (Conv2D)                        (None, None, None, 64)                  8256           \n",
      "____________________________________________________________________________________________________\n",
      "block6_pool (GlobalMaxPooling2D)             (None, 64)                              0              \n",
      "____________________________________________________________________________________________________\n",
      "dropout_1 (Dropout)                          (None, 64)                              0              \n",
      "____________________________________________________________________________________________________\n",
      "dense_1 (Dense)                              (None, 64)                              4160           \n",
      "____________________________________________________________________________________________________\n",
      "batch_normalization_1 (BatchNormalization)   (None, 64)                              256            \n",
      "____________________________________________________________________________________________________\n",
      "activation_1 (Activation)                    (None, 64)                              0              \n",
      "____________________________________________________________________________________________________\n",
      "dropout_2 (Dropout)                          (None, 64)                              0              \n",
      "____________________________________________________________________________________________________\n",
      "dense_2 (Dense)                              (None, 1)                               65             \n",
      "====================================================================================================\n",
      "Total params: 272,897\n",
      "Trainable params: 12,609\n",
      "Non-trainable params: 260,288\n",
      "____________________________________________________________________________________________________\n"
     ]
    }
   ],
   "source": [
    "# freeze original VGG16 layers\n",
    "for i, layer in enumerate(model.layers):\n",
    "    if 'block1' in layer.name or 'block2' in layer.name:\n",
    "        layer.trainable = False\n",
    "    else:\n",
    "        layer.trainable = True\n",
    "\n",
    "    print(i, layer.trainable, layer.name)\n",
    "\n",
    "model.compile(loss='binary_crossentropy', optimizer='adam')\n",
    "model.summary(line_length=100)"
   ]
  },
  {
   "cell_type": "markdown",
   "metadata": {},
   "source": [
    "Start training the ConvNet!!\n",
    "\n",
    "**WARNING** This will take many hours on the CPU. Will be much faster if running on GPU"
   ]
  },
  {
   "cell_type": "code",
   "execution_count": 9,
   "metadata": {},
   "outputs": [
    {
     "name": "stdout",
     "output_type": "stream",
     "text": [
      "Train on 729 samples, validate on 313 samples\n",
      "Epoch 1/60\n",
      "1079s - loss: 1.4891 - val_loss: 1.9849\n",
      "Epoch 2/60\n",
      "1083s - loss: 1.3194 - val_loss: 1.7208\n",
      "Epoch 3/60\n",
      "1075s - loss: 1.2994 - val_loss: 1.3529\n",
      "Epoch 4/60\n",
      "1076s - loss: 1.2591 - val_loss: 1.2548\n",
      "Epoch 5/60\n",
      "1063s - loss: 1.2758 - val_loss: 1.1600\n",
      "Epoch 6/60\n",
      "1064s - loss: 1.2457 - val_loss: 1.0616\n",
      "Epoch 7/60\n",
      "1064s - loss: 1.2050 - val_loss: 1.0347\n",
      "Epoch 8/60\n",
      "1063s - loss: 1.1406 - val_loss: 0.9967\n",
      "Epoch 9/60\n",
      "1066s - loss: 1.1961 - val_loss: 0.9663\n",
      "Epoch 10/60\n",
      "1060s - loss: 1.1504 - val_loss: 0.9240\n",
      "Epoch 11/60\n",
      "1061s - loss: 1.1129 - val_loss: 0.9172\n",
      "Epoch 12/60\n",
      "1062s - loss: 1.1490 - val_loss: 0.9040\n",
      "Epoch 13/60\n",
      "1064s - loss: 1.1378 - val_loss: 0.8812\n",
      "Epoch 14/60\n",
      "1063s - loss: 1.1091 - val_loss: 0.8729\n",
      "Epoch 15/60\n",
      "1064s - loss: 1.0869 - val_loss: 0.8598\n",
      "Epoch 16/60\n",
      "1066s - loss: 1.0434 - val_loss: 0.8487\n",
      "Epoch 17/60\n",
      "1063s - loss: 1.0962 - val_loss: 0.8476\n",
      "Epoch 18/60\n",
      "1063s - loss: 1.0204 - val_loss: 0.8511\n",
      "Epoch 19/60\n",
      "1067s - loss: 0.9730 - val_loss: 0.8456\n",
      "Epoch 20/60\n",
      "1064s - loss: 0.9896 - val_loss: 0.8340\n",
      "Epoch 21/60\n",
      "1063s - loss: 0.8964 - val_loss: 0.8225\n",
      "Epoch 22/60\n",
      "1062s - loss: 0.9154 - val_loss: 0.8032\n",
      "Epoch 23/60\n",
      "1062s - loss: 0.9655 - val_loss: 0.8149\n",
      "Epoch 24/60\n",
      "1066s - loss: 0.8651 - val_loss: 0.8183\n",
      "Epoch 25/60\n",
      "1065s - loss: 0.8554 - val_loss: 0.8327\n",
      "Epoch 26/60\n",
      "1062s - loss: 0.8292 - val_loss: 0.8577\n",
      "Epoch 27/60\n",
      "1065s - loss: 0.8571 - val_loss: 0.8406\n",
      "Epoch 28/60\n",
      "1064s - loss: 0.7328 - val_loss: 0.8667\n",
      "Epoch 29/60\n",
      "1063s - loss: 0.7828 - val_loss: 0.8414\n",
      "Epoch 30/60\n",
      "1062s - loss: 0.7997 - val_loss: 0.8595\n",
      "Epoch 31/60\n",
      "1065s - loss: 0.7845 - val_loss: 0.8092\n",
      "Epoch 32/60\n",
      "1064s - loss: 0.7527 - val_loss: 0.8137\n",
      "Epoch 33/60\n",
      "1064s - loss: 0.7518 - val_loss: 0.8402\n",
      "Epoch 34/60\n",
      "1064s - loss: 0.7096 - val_loss: 0.8698\n",
      "Epoch 35/60\n",
      "1069s - loss: 0.7337 - val_loss: 0.8662\n",
      "Epoch 36/60\n",
      "1065s - loss: 0.6423 - val_loss: 0.8635\n",
      "Epoch 37/60\n",
      "1063s - loss: 0.6421 - val_loss: 0.8149\n",
      "Epoch 38/60\n",
      "1062s - loss: 0.6279 - val_loss: 0.7578\n",
      "Epoch 39/60\n",
      "1062s - loss: 0.6014 - val_loss: 0.7303\n",
      "Epoch 40/60\n",
      "1063s - loss: 0.6436 - val_loss: 0.7230\n",
      "Epoch 41/60\n",
      "1062s - loss: 0.5952 - val_loss: 0.7755\n",
      "Epoch 42/60\n",
      "1066s - loss: 0.6499 - val_loss: 0.7211\n",
      "Epoch 43/60\n",
      "1064s - loss: 0.6172 - val_loss: 0.7000\n",
      "Epoch 44/60\n",
      "1064s - loss: 0.6659 - val_loss: 0.7129\n",
      "Epoch 45/60\n",
      "1065s - loss: 0.5681 - val_loss: 0.7552\n",
      "Epoch 46/60\n",
      "1062s - loss: 0.5774 - val_loss: 0.6784\n",
      "Epoch 47/60\n",
      "1062s - loss: 0.6361 - val_loss: 0.6875\n",
      "Epoch 48/60\n",
      "1066s - loss: 0.5526 - val_loss: 0.6655\n",
      "Epoch 49/60\n",
      "1064s - loss: 0.5427 - val_loss: 0.6568\n",
      "Epoch 50/60\n",
      "1063s - loss: 0.5296 - val_loss: 0.6520\n",
      "Epoch 51/60\n",
      "1064s - loss: 0.6177 - val_loss: 0.6862\n",
      "Epoch 52/60\n",
      "1064s - loss: 0.5188 - val_loss: 0.6525\n",
      "Epoch 53/60\n",
      "1063s - loss: 0.5275 - val_loss: 0.6221\n",
      "Epoch 54/60\n",
      "1064s - loss: 0.5457 - val_loss: 0.6347\n",
      "Epoch 55/60\n",
      "1064s - loss: 0.5403 - val_loss: 0.6191\n",
      "Epoch 56/60\n",
      "1087s - loss: 0.5591 - val_loss: 0.6265\n",
      "Epoch 57/60\n",
      "1089s - loss: 0.5162 - val_loss: 0.6270\n",
      "Epoch 58/60\n",
      "1062s - loss: 0.5407 - val_loss: 0.6411\n",
      "Epoch 59/60\n",
      "1063s - loss: 0.4924 - val_loss: 0.7150\n",
      "Epoch 60/60\n",
      "1062s - loss: 0.5143 - val_loss: 0.6716\n"
     ]
    }
   ],
   "source": [
    "model.fit(X_all, Y_all, batch_size=32, epochs=60, verbose=2, shuffle=True, validation_split=0.3, sample_weight=W_all);"
   ]
  },
  {
   "cell_type": "markdown",
   "metadata": {},
   "source": [
    "Plot the continuous confusion matrix and evaluate the *area under the receiver operating characteristic* or AUROC curve"
   ]
  },
  {
   "cell_type": "code",
   "execution_count": 12,
   "metadata": {
    "collapsed": true
   },
   "outputs": [
    {
     "data": {
      "text/plain": [
       "<matplotlib.legend.Legend at 0xe62fc18>"
      ]
     },
     "execution_count": 12,
     "metadata": {},
     "output_type": "execute_result"
    },
    {
     "data": {
      "image/png": "[encoded data removed]",
      "text/plain": [
       "<matplotlib.figure.Figure at 0xe62fc50>"
      ]
     },
     "metadata": {},
     "output_type": "display_data"
    }
   ],
   "source": [
    "Y_predict = model.predict(X_all[-313:])\n",
    "fpr, tpr, _ = metrics.roc_curve(Y_all[-313:], Y_predict)\n",
    "plt.scatter(Y_predict, Y_all[-313:] + np.random.uniform(low=-0.02, high=0.02, size=313), s=4, label='ROC curve (area = %0.3f)' % metrics.auc(fpr, tpr));\n",
    "plt.xlim([0.0, 1.0]); plt.ylim([-0.1, 1.1]); plt.legend(loc=\"center right\")"
   ]
  },
  {
   "cell_type": "markdown",
   "metadata": {},
   "source": [
    "**Observation**: The ConvNet achieved an AUROC of 0.902 out of a maximum of 1. Pretty good!"
   ]
  },
  {
   "cell_type": "markdown",
   "metadata": {},
   "source": []
  },
  {
   "cell_type": "markdown",
   "metadata": {},
   "source": [
    "Write the trained weights to disk so we can backtrack if necessary"
   ]
  },
  {
   "cell_type": "code",
   "execution_count": 13,
   "metadata": {},
   "outputs": [],
   "source": [
    "# save weights with timestamps\n",
    "path = '//hona01a.houston-us0380.slb.com/ud/eh17/CNN_QC_Assistant_ee71/text_files/101_Migration_Preparation_T/'\n",
    "file_name = 'model_weights/' + datetime.datetime.fromtimestamp(time.time()).strftime('%Y%m%d_%H_%M') + '.h5'\n",
    "model.save_weights(path + file_name, overwrite=False)\n",
    "print('Saved ConvNet weights: ' + path + file_name)"
   ]
  },
  {
   "cell_type": "markdown",
   "metadata": {},
   "source": [
    "# Step 1d Train Fresh Layers and Second Block of VGG16\n",
    "\n",
    "In this stage, we unfreeze the VGG16 block closest to the fully connected layers and train it together with the layers we trained in 1c."
   ]
  },
  {
   "cell_type": "code",
   "execution_count": 16,
   "metadata": {},
   "outputs": [
    {
     "name": "stdout",
     "output_type": "stream",
     "text": [
      "0 True input_1\n",
      "1 False block1_conv1\n",
      "2 False block1_conv2\n",
      "3 False block1_pool\n",
      "4 True block2_conv1\n",
      "5 True block2_conv2\n",
      "6 True block2_pool\n",
      "7 True block6_conv1\n",
      "8 True block6_pool\n",
      "9 True dropout_1\n",
      "10 True dense_1\n",
      "11 True batch_normalization_1\n",
      "12 True activation_1\n",
      "13 True dropout_2\n",
      "14 True dense_2\n",
      "____________________________________________________________________________________________________\n",
      "Layer (type)                                 Output Shape                            Param #        \n",
      "====================================================================================================\n",
      "input_1 (InputLayer)                         (None, None, None, 3)                   0              \n",
      "____________________________________________________________________________________________________\n",
      "block1_conv1 (Conv2D)                        (None, None, None, 64)                  1792           \n",
      "____________________________________________________________________________________________________\n",
      "block1_conv2 (Conv2D)                        (None, None, None, 64)                  36928          \n",
      "____________________________________________________________________________________________________\n",
      "block1_pool (MaxPooling2D)                   (None, None, None, 64)                  0              \n",
      "____________________________________________________________________________________________________\n",
      "block2_conv1 (Conv2D)                        (None, None, None, 128)                 73856          \n",
      "____________________________________________________________________________________________________\n",
      "block2_conv2 (Conv2D)                        (None, None, None, 128)                 147584         \n",
      "____________________________________________________________________________________________________\n",
      "block2_pool (MaxPooling2D)                   (None, None, None, 128)                 0              \n",
      "____________________________________________________________________________________________________\n",
      "block6_conv1 (Conv2D)                        (None, None, None, 64)                  8256           \n",
      "____________________________________________________________________________________________________\n",
      "block6_pool (GlobalMaxPooling2D)             (None, 64)                              0              \n",
      "____________________________________________________________________________________________________\n",
      "dropout_1 (Dropout)                          (None, 64)                              0              \n",
      "____________________________________________________________________________________________________\n",
      "dense_1 (Dense)                              (None, 64)                              4160           \n",
      "____________________________________________________________________________________________________\n",
      "batch_normalization_1 (BatchNormalization)   (None, 64)                              256            \n",
      "____________________________________________________________________________________________________\n",
      "activation_1 (Activation)                    (None, 64)                              0              \n",
      "____________________________________________________________________________________________________\n",
      "dropout_2 (Dropout)                          (None, 64)                              0              \n",
      "____________________________________________________________________________________________________\n",
      "dense_2 (Dense)                              (None, 1)                               65             \n",
      "====================================================================================================\n",
      "Total params: 272,897\n",
      "Trainable params: 234,049\n",
      "Non-trainable params: 38,848\n",
      "____________________________________________________________________________________________________\n"
     ]
    }
   ],
   "source": [
    "# unfreeze block2\n",
    "for i, layer in enumerate(model.layers):\n",
    "    if 'block1' in layer.name:\n",
    "        layer.trainable = False\n",
    "    else:\n",
    "        layer.trainable = True\n",
    "\n",
    "    print(i, layer.trainable, layer.name)\n",
    "\n",
    "model.compile(optimizer=SGD(lr=0.0002, momentum=0.9), loss='binary_crossentropy')\n",
    "model.summary(line_length=100)"
   ]
  },
  {
   "cell_type": "code",
   "execution_count": 17,
   "metadata": {},
   "outputs": [
    {
     "name": "stdout",
     "output_type": "stream",
     "text": [
      "Train on 729 samples, validate on 313 samples\n",
      "Epoch 1/12\n",
      "1471s - loss: 0.4836 - val_loss: 0.6348\n",
      "Epoch 2/12\n",
      "1456s - loss: 0.4916 - val_loss: 0.6287\n",
      "Epoch 3/12\n",
      "1465s - loss: 0.4729 - val_loss: 0.6529\n",
      "Epoch 4/12\n",
      "1489s - loss: 0.4570 - val_loss: 0.6464\n",
      "Epoch 5/12\n",
      "1511s - loss: 0.4333 - val_loss: 0.6615\n",
      "Epoch 6/12\n",
      "1504s - loss: 0.4282 - val_loss: 0.6556\n",
      "Epoch 7/12\n"
     ]
    },
    {
     "ename": "KeyboardInterrupt",
     "evalue": "",
     "output_type": "error",
     "traceback": [
      "\u001b[1;31m---------------------------------------------------------------------------\u001b[0m",
      "\u001b[1;31mKeyboardInterrupt\u001b[0m                         Traceback (most recent call last)",
      "\u001b[1;32m<ipython-input-17-02693083061f>\u001b[0m in \u001b[0;36m<module>\u001b[1;34m()\u001b[0m\n\u001b[0;32m      1\u001b[0m \u001b[1;31m# fine-tune all layers while keeping block1 fixed\u001b[0m\u001b[1;33m\u001b[0m\u001b[1;33m\u001b[0m\u001b[0m\n\u001b[1;32m----> 2\u001b[1;33m \u001b[0mmodel\u001b[0m\u001b[1;33m.\u001b[0m\u001b[0mfit\u001b[0m\u001b[1;33m(\u001b[0m\u001b[0mX_all\u001b[0m\u001b[1;33m,\u001b[0m \u001b[0mY_all\u001b[0m\u001b[1;33m,\u001b[0m \u001b[0mbatch_size\u001b[0m\u001b[1;33m=\u001b[0m\u001b[1;36m32\u001b[0m\u001b[1;33m,\u001b[0m \u001b[0mepochs\u001b[0m\u001b[1;33m=\u001b[0m\u001b[1;36m12\u001b[0m\u001b[1;33m,\u001b[0m \u001b[0mverbose\u001b[0m\u001b[1;33m=\u001b[0m\u001b[1;36m2\u001b[0m\u001b[1;33m,\u001b[0m \u001b[0mshuffle\u001b[0m\u001b[1;33m=\u001b[0m\u001b[1;32mTrue\u001b[0m\u001b[1;33m,\u001b[0m \u001b[0mvalidation_split\u001b[0m\u001b[1;33m=\u001b[0m\u001b[1;36m0.3\u001b[0m\u001b[1;33m,\u001b[0m \u001b[0msample_weight\u001b[0m\u001b[1;33m=\u001b[0m\u001b[0mW_all\u001b[0m\u001b[1;33m)\u001b[0m\u001b[1;33m\u001b[0m\u001b[0m\n\u001b[0m",
      "\u001b[1;32mc:\\users\\slooi\\appdata\\local\\programs\\python\\python35\\lib\\site-packages\\keras\\engine\\training.py\u001b[0m in \u001b[0;36mfit\u001b[1;34m(self, x, y, batch_size, epochs, verbose, callbacks, validation_split, validation_data, shuffle, class_weight, sample_weight, initial_epoch, **kwargs)\u001b[0m\n\u001b[0;32m   1505\u001b[0m                               \u001b[0mval_f\u001b[0m\u001b[1;33m=\u001b[0m\u001b[0mval_f\u001b[0m\u001b[1;33m,\u001b[0m \u001b[0mval_ins\u001b[0m\u001b[1;33m=\u001b[0m\u001b[0mval_ins\u001b[0m\u001b[1;33m,\u001b[0m \u001b[0mshuffle\u001b[0m\u001b[1;33m=\u001b[0m\u001b[0mshuffle\u001b[0m\u001b[1;33m,\u001b[0m\u001b[1;33m\u001b[0m\u001b[0m\n\u001b[0;32m   1506\u001b[0m                               \u001b[0mcallback_metrics\u001b[0m\u001b[1;33m=\u001b[0m\u001b[0mcallback_metrics\u001b[0m\u001b[1;33m,\u001b[0m\u001b[1;33m\u001b[0m\u001b[0m\n\u001b[1;32m-> 1507\u001b[1;33m                               initial_epoch=initial_epoch)\n\u001b[0m\u001b[0;32m   1508\u001b[0m \u001b[1;33m\u001b[0m\u001b[0m\n\u001b[0;32m   1509\u001b[0m     \u001b[1;32mdef\u001b[0m \u001b[0mevaluate\u001b[0m\u001b[1;33m(\u001b[0m\u001b[0mself\u001b[0m\u001b[1;33m,\u001b[0m \u001b[0mx\u001b[0m\u001b[1;33m,\u001b[0m \u001b[0my\u001b[0m\u001b[1;33m,\u001b[0m \u001b[0mbatch_size\u001b[0m\u001b[1;33m=\u001b[0m\u001b[1;36m32\u001b[0m\u001b[1;33m,\u001b[0m \u001b[0mverbose\u001b[0m\u001b[1;33m=\u001b[0m\u001b[1;36m1\u001b[0m\u001b[1;33m,\u001b[0m \u001b[0msample_weight\u001b[0m\u001b[1;33m=\u001b[0m\u001b[1;32mNone\u001b[0m\u001b[1;33m)\u001b[0m\u001b[1;33m:\u001b[0m\u001b[1;33m\u001b[0m\u001b[0m\n",
      "\u001b[1;32mc:\\users\\slooi\\appdata\\local\\programs\\python\\python35\\lib\\site-packages\\keras\\engine\\training.py\u001b[0m in \u001b[0;36m_fit_loop\u001b[1;34m(self, f, ins, out_labels, batch_size, epochs, verbose, callbacks, val_f, val_ins, shuffle, callback_metrics, initial_epoch)\u001b[0m\n\u001b[0;32m   1154\u001b[0m                 \u001b[0mbatch_logs\u001b[0m\u001b[1;33m[\u001b[0m\u001b[1;34m'size'\u001b[0m\u001b[1;33m]\u001b[0m \u001b[1;33m=\u001b[0m \u001b[0mlen\u001b[0m\u001b[1;33m(\u001b[0m\u001b[0mbatch_ids\u001b[0m\u001b[1;33m)\u001b[0m\u001b[1;33m\u001b[0m\u001b[0m\n\u001b[0;32m   1155\u001b[0m                 \u001b[0mcallbacks\u001b[0m\u001b[1;33m.\u001b[0m\u001b[0mon_batch_begin\u001b[0m\u001b[1;33m(\u001b[0m\u001b[0mbatch_index\u001b[0m\u001b[1;33m,\u001b[0m \u001b[0mbatch_logs\u001b[0m\u001b[1;33m)\u001b[0m\u001b[1;33m\u001b[0m\u001b[0m\n\u001b[1;32m-> 1156\u001b[1;33m                 \u001b[0mouts\u001b[0m \u001b[1;33m=\u001b[0m \u001b[0mf\u001b[0m\u001b[1;33m(\u001b[0m\u001b[0mins_batch\u001b[0m\u001b[1;33m)\u001b[0m\u001b[1;33m\u001b[0m\u001b[0m\n\u001b[0m\u001b[0;32m   1157\u001b[0m                 \u001b[1;32mif\u001b[0m \u001b[1;32mnot\u001b[0m \u001b[0misinstance\u001b[0m\u001b[1;33m(\u001b[0m\u001b[0mouts\u001b[0m\u001b[1;33m,\u001b[0m \u001b[0mlist\u001b[0m\u001b[1;33m)\u001b[0m\u001b[1;33m:\u001b[0m\u001b[1;33m\u001b[0m\u001b[0m\n\u001b[0;32m   1158\u001b[0m                     \u001b[0mouts\u001b[0m \u001b[1;33m=\u001b[0m \u001b[1;33m[\u001b[0m\u001b[0mouts\u001b[0m\u001b[1;33m]\u001b[0m\u001b[1;33m\u001b[0m\u001b[0m\n",
      "\u001b[1;32mc:\\users\\slooi\\appdata\\local\\programs\\python\\python35\\lib\\site-packages\\keras\\backend\\tensorflow_backend.py\u001b[0m in \u001b[0;36m__call__\u001b[1;34m(self, inputs)\u001b[0m\n\u001b[0;32m   2267\u001b[0m         updated = session.run(self.outputs + [self.updates_op],\n\u001b[0;32m   2268\u001b[0m                               \u001b[0mfeed_dict\u001b[0m\u001b[1;33m=\u001b[0m\u001b[0mfeed_dict\u001b[0m\u001b[1;33m,\u001b[0m\u001b[1;33m\u001b[0m\u001b[0m\n\u001b[1;32m-> 2269\u001b[1;33m                               **self.session_kwargs)\n\u001b[0m\u001b[0;32m   2270\u001b[0m         \u001b[1;32mreturn\u001b[0m \u001b[0mupdated\u001b[0m\u001b[1;33m[\u001b[0m\u001b[1;33m:\u001b[0m\u001b[0mlen\u001b[0m\u001b[1;33m(\u001b[0m\u001b[0mself\u001b[0m\u001b[1;33m.\u001b[0m\u001b[0moutputs\u001b[0m\u001b[1;33m)\u001b[0m\u001b[1;33m]\u001b[0m\u001b[1;33m\u001b[0m\u001b[0m\n\u001b[0;32m   2271\u001b[0m \u001b[1;33m\u001b[0m\u001b[0m\n",
      "\u001b[1;32mc:\\users\\slooi\\appdata\\local\\programs\\python\\python35\\lib\\site-packages\\tensorflow\\python\\client\\session.py\u001b[0m in \u001b[0;36mrun\u001b[1;34m(self, fetches, feed_dict, options, run_metadata)\u001b[0m\n\u001b[0;32m    787\u001b[0m     \u001b[1;32mtry\u001b[0m\u001b[1;33m:\u001b[0m\u001b[1;33m\u001b[0m\u001b[0m\n\u001b[0;32m    788\u001b[0m       result = self._run(None, fetches, feed_dict, options_ptr,\n\u001b[1;32m--> 789\u001b[1;33m                          run_metadata_ptr)\n\u001b[0m\u001b[0;32m    790\u001b[0m       \u001b[1;32mif\u001b[0m \u001b[0mrun_metadata\u001b[0m\u001b[1;33m:\u001b[0m\u001b[1;33m\u001b[0m\u001b[0m\n\u001b[0;32m    791\u001b[0m         \u001b[0mproto_data\u001b[0m \u001b[1;33m=\u001b[0m \u001b[0mtf_session\u001b[0m\u001b[1;33m.\u001b[0m\u001b[0mTF_GetBuffer\u001b[0m\u001b[1;33m(\u001b[0m\u001b[0mrun_metadata_ptr\u001b[0m\u001b[1;33m)\u001b[0m\u001b[1;33m\u001b[0m\u001b[0m\n",
      "\u001b[1;32mc:\\users\\slooi\\appdata\\local\\programs\\python\\python35\\lib\\site-packages\\tensorflow\\python\\client\\session.py\u001b[0m in \u001b[0;36m_run\u001b[1;34m(self, handle, fetches, feed_dict, options, run_metadata)\u001b[0m\n\u001b[0;32m    995\u001b[0m     \u001b[1;32mif\u001b[0m \u001b[0mfinal_fetches\u001b[0m \u001b[1;32mor\u001b[0m \u001b[0mfinal_targets\u001b[0m\u001b[1;33m:\u001b[0m\u001b[1;33m\u001b[0m\u001b[0m\n\u001b[0;32m    996\u001b[0m       results = self._do_run(handle, final_targets, final_fetches,\n\u001b[1;32m--> 997\u001b[1;33m                              feed_dict_string, options, run_metadata)\n\u001b[0m\u001b[0;32m    998\u001b[0m     \u001b[1;32melse\u001b[0m\u001b[1;33m:\u001b[0m\u001b[1;33m\u001b[0m\u001b[0m\n\u001b[0;32m    999\u001b[0m       \u001b[0mresults\u001b[0m \u001b[1;33m=\u001b[0m \u001b[1;33m[\u001b[0m\u001b[1;33m]\u001b[0m\u001b[1;33m\u001b[0m\u001b[0m\n",
      "\u001b[1;32mc:\\users\\slooi\\appdata\\local\\programs\\python\\python35\\lib\\site-packages\\tensorflow\\python\\client\\session.py\u001b[0m in \u001b[0;36m_do_run\u001b[1;34m(self, handle, target_list, fetch_list, feed_dict, options, run_metadata)\u001b[0m\n\u001b[0;32m   1130\u001b[0m     \u001b[1;32mif\u001b[0m \u001b[0mhandle\u001b[0m \u001b[1;32mis\u001b[0m \u001b[1;32mNone\u001b[0m\u001b[1;33m:\u001b[0m\u001b[1;33m\u001b[0m\u001b[0m\n\u001b[0;32m   1131\u001b[0m       return self._do_call(_run_fn, self._session, feed_dict, fetch_list,\n\u001b[1;32m-> 1132\u001b[1;33m                            target_list, options, run_metadata)\n\u001b[0m\u001b[0;32m   1133\u001b[0m     \u001b[1;32melse\u001b[0m\u001b[1;33m:\u001b[0m\u001b[1;33m\u001b[0m\u001b[0m\n\u001b[0;32m   1134\u001b[0m       return self._do_call(_prun_fn, self._session, handle, feed_dict,\n",
      "\u001b[1;32mc:\\users\\slooi\\appdata\\local\\programs\\python\\python35\\lib\\site-packages\\tensorflow\\python\\client\\session.py\u001b[0m in \u001b[0;36m_do_call\u001b[1;34m(self, fn, *args)\u001b[0m\n\u001b[0;32m   1137\u001b[0m   \u001b[1;32mdef\u001b[0m \u001b[0m_do_call\u001b[0m\u001b[1;33m(\u001b[0m\u001b[0mself\u001b[0m\u001b[1;33m,\u001b[0m \u001b[0mfn\u001b[0m\u001b[1;33m,\u001b[0m \u001b[1;33m*\u001b[0m\u001b[0margs\u001b[0m\u001b[1;33m)\u001b[0m\u001b[1;33m:\u001b[0m\u001b[1;33m\u001b[0m\u001b[0m\n\u001b[0;32m   1138\u001b[0m     \u001b[1;32mtry\u001b[0m\u001b[1;33m:\u001b[0m\u001b[1;33m\u001b[0m\u001b[0m\n\u001b[1;32m-> 1139\u001b[1;33m       \u001b[1;32mreturn\u001b[0m \u001b[0mfn\u001b[0m\u001b[1;33m(\u001b[0m\u001b[1;33m*\u001b[0m\u001b[0margs\u001b[0m\u001b[1;33m)\u001b[0m\u001b[1;33m\u001b[0m\u001b[0m\n\u001b[0m\u001b[0;32m   1140\u001b[0m     \u001b[1;32mexcept\u001b[0m \u001b[0merrors\u001b[0m\u001b[1;33m.\u001b[0m\u001b[0mOpError\u001b[0m \u001b[1;32mas\u001b[0m \u001b[0me\u001b[0m\u001b[1;33m:\u001b[0m\u001b[1;33m\u001b[0m\u001b[0m\n\u001b[0;32m   1141\u001b[0m       \u001b[0mmessage\u001b[0m \u001b[1;33m=\u001b[0m \u001b[0mcompat\u001b[0m\u001b[1;33m.\u001b[0m\u001b[0mas_text\u001b[0m\u001b[1;33m(\u001b[0m\u001b[0me\u001b[0m\u001b[1;33m.\u001b[0m\u001b[0mmessage\u001b[0m\u001b[1;33m)\u001b[0m\u001b[1;33m\u001b[0m\u001b[0m\n",
      "\u001b[1;32mc:\\users\\slooi\\appdata\\local\\programs\\python\\python35\\lib\\site-packages\\tensorflow\\python\\client\\session.py\u001b[0m in \u001b[0;36m_run_fn\u001b[1;34m(session, feed_dict, fetch_list, target_list, options, run_metadata)\u001b[0m\n\u001b[0;32m   1119\u001b[0m         return tf_session.TF_Run(session, options,\n\u001b[0;32m   1120\u001b[0m                                  \u001b[0mfeed_dict\u001b[0m\u001b[1;33m,\u001b[0m \u001b[0mfetch_list\u001b[0m\u001b[1;33m,\u001b[0m \u001b[0mtarget_list\u001b[0m\u001b[1;33m,\u001b[0m\u001b[1;33m\u001b[0m\u001b[0m\n\u001b[1;32m-> 1121\u001b[1;33m                                  status, run_metadata)\n\u001b[0m\u001b[0;32m   1122\u001b[0m \u001b[1;33m\u001b[0m\u001b[0m\n\u001b[0;32m   1123\u001b[0m     \u001b[1;32mdef\u001b[0m \u001b[0m_prun_fn\u001b[0m\u001b[1;33m(\u001b[0m\u001b[0msession\u001b[0m\u001b[1;33m,\u001b[0m \u001b[0mhandle\u001b[0m\u001b[1;33m,\u001b[0m \u001b[0mfeed_dict\u001b[0m\u001b[1;33m,\u001b[0m \u001b[0mfetch_list\u001b[0m\u001b[1;33m)\u001b[0m\u001b[1;33m:\u001b[0m\u001b[1;33m\u001b[0m\u001b[0m\n",
      "\u001b[1;31mKeyboardInterrupt\u001b[0m: "
     ]
    }
   ],
   "source": [
    "# fine-tune all layers while keeping block1 fixed\n",
    "model.fit(X_all, Y_all, batch_size=32, epochs=12, verbose=2, shuffle=True, validation_split=0.3, sample_weight=W_all)"
   ]
  },
  {
   "cell_type": "markdown",
   "metadata": {},
   "source": [
    "Didn't like that the validation loss is so high so I decided to kill the training job.\n",
    "\n",
    "\n",
    "\n",
    "Next, load the saved weights to backtrack and tweak the training parameters a little. "
   ]
  },
  {
   "cell_type": "code",
   "execution_count": 25,
   "metadata": {},
   "outputs": [
    {
     "name": "stdout",
     "output_type": "stream",
     "text": [
      "Loaded ConvNet weights: //hona01a.houston-us0380.slb.com/ud/eh17/CNN_QC_Assistant_ee71/text_files/101_Migration_Preparation_T/model_weights/20170815_13_13.h5\n"
     ]
    }
   ],
   "source": [
    "# backtrack by loading previously saved weights\n",
    "path = '//hona01a.houston-us0380.slb.com/ud/eh17/CNN_QC_Assistant_ee71/text_files/101_Migration_Preparation_T/'\n",
    "file_name = 'model_weights/20170815_13_13.h5'\n",
    "model.load_weights(path + file_name)\n",
    "print('Loaded ConvNet weights: ' + path + file_name)"
   ]
  },
  {
   "cell_type": "code",
   "execution_count": 26,
   "metadata": {},
   "outputs": [
    {
     "name": "stdout",
     "output_type": "stream",
     "text": [
      "0 True input_1\n",
      "1 False block1_conv1\n",
      "2 False block1_conv2\n",
      "3 False block1_pool\n",
      "4 True block2_conv1\n",
      "5 True block2_conv2\n",
      "6 True block2_pool\n",
      "7 True block6_conv1\n",
      "8 True block6_pool\n",
      "9 True dropout_1\n",
      "10 True dense_1\n",
      "11 True batch_normalization_1\n",
      "12 True activation_1\n",
      "13 True dropout_2\n",
      "14 True dense_2\n",
      "____________________________________________________________________________________________________\n",
      "Layer (type)                                 Output Shape                            Param #        \n",
      "====================================================================================================\n",
      "input_1 (InputLayer)                         (None, None, None, 3)                   0              \n",
      "____________________________________________________________________________________________________\n",
      "block1_conv1 (Conv2D)                        (None, None, None, 64)                  1792           \n",
      "____________________________________________________________________________________________________\n",
      "block1_conv2 (Conv2D)                        (None, None, None, 64)                  36928          \n",
      "____________________________________________________________________________________________________\n",
      "block1_pool (MaxPooling2D)                   (None, None, None, 64)                  0              \n",
      "____________________________________________________________________________________________________\n",
      "block2_conv1 (Conv2D)                        (None, None, None, 128)                 73856          \n",
      "____________________________________________________________________________________________________\n",
      "block2_conv2 (Conv2D)                        (None, None, None, 128)                 147584         \n",
      "____________________________________________________________________________________________________\n",
      "block2_pool (MaxPooling2D)                   (None, None, None, 128)                 0              \n",
      "____________________________________________________________________________________________________\n",
      "block6_conv1 (Conv2D)                        (None, None, None, 64)                  8256           \n",
      "____________________________________________________________________________________________________\n",
      "block6_pool (GlobalMaxPooling2D)             (None, 64)                              0              \n",
      "____________________________________________________________________________________________________\n",
      "dropout_1 (Dropout)                          (None, 64)                              0              \n",
      "____________________________________________________________________________________________________\n",
      "dense_1 (Dense)                              (None, 64)                              4160           \n",
      "____________________________________________________________________________________________________\n",
      "batch_normalization_1 (BatchNormalization)   (None, 64)                              256            \n",
      "____________________________________________________________________________________________________\n",
      "activation_1 (Activation)                    (None, 64)                              0              \n",
      "____________________________________________________________________________________________________\n",
      "dropout_2 (Dropout)                          (None, 64)                              0              \n",
      "____________________________________________________________________________________________________\n",
      "dense_2 (Dense)                              (None, 1)                               65             \n",
      "====================================================================================================\n",
      "Total params: 272,897\n",
      "Trainable params: 234,049\n",
      "Non-trainable params: 38,848\n",
      "____________________________________________________________________________________________________\n"
     ]
    }
   ],
   "source": [
    "# unfreeze block2 and dense layers\n",
    "for i, layer in enumerate(model.layers):\n",
    "    if 'block1' in layer.name:\n",
    "        layer.trainable = False\n",
    "    else:\n",
    "        layer.trainable = True\n",
    "\n",
    "    print(i, layer.trainable, layer.name)\n",
    "\n",
    "model.compile(optimizer=SGD(lr=0.001, momentum=0.9), loss='binary_crossentropy')\n",
    "model.summary(line_length=100)"
   ]
  },
  {
   "cell_type": "code",
   "execution_count": 27,
   "metadata": {},
   "outputs": [
    {
     "name": "stdout",
     "output_type": "stream",
     "text": [
      "Train on 729 samples, validate on 313 samples\n",
      "Epoch 1/6\n",
      "1492s - loss: 0.6071 - val_loss: 0.7553\n",
      "Epoch 2/6\n",
      "1465s - loss: 0.5875 - val_loss: 0.6571\n",
      "Epoch 3/6\n",
      "1481s - loss: 0.6252 - val_loss: 0.6097\n",
      "Epoch 4/6\n",
      "1480s - loss: 0.5483 - val_loss: 0.7075\n",
      "Epoch 5/6\n",
      "1448s - loss: 0.5554 - val_loss: 0.6350\n",
      "Epoch 6/6\n",
      "1434s - loss: 0.5179 - val_loss: 0.6421\n"
     ]
    },
    {
     "data": {
      "text/plain": [
       "<keras.callbacks.History at 0x15843da0>"
      ]
     },
     "execution_count": 27,
     "metadata": {},
     "output_type": "execute_result"
    }
   ],
   "source": [
    "# fine-tune all layers while keeping block1 fixed\n",
    "model.fit(X_all, Y_all, batch_size=32, epochs=6, verbose=2, shuffle=True, validation_split=0.3, sample_weight=W_all);"
   ]
  },
  {
   "cell_type": "code",
   "execution_count": 28,
   "metadata": {},
   "outputs": [
    {
     "data": {
      "text/plain": [
       "<matplotlib.legend.Legend at 0x145409b0>"
      ]
     },
     "execution_count": 28,
     "metadata": {},
     "output_type": "execute_result"
    },
    {
     "data": {
      "image/png": "[encoded data removed]",
      "text/plain": [
       "<matplotlib.figure.Figure at 0x1453a780>"
      ]
     },
     "metadata": {},
     "output_type": "display_data"
    }
   ],
   "source": [
    "Y_predict = model.predict(X_all[-313:])\n",
    "fpr, tpr, _ = metrics.roc_curve(Y_all[-313:], Y_predict)\n",
    "plt.scatter(Y_predict, Y_all[-313:] + np.random.uniform(low=-0.02, high=0.02, size=313), s=4, label='ROC curve (area = %0.3f)' % metrics.auc(fpr, tpr));\n",
    "plt.xlim([0.0, 1.0]); plt.ylim([-0.1, 1.1]); plt.legend(loc=\"center right\");"
   ]
  },
  {
   "cell_type": "markdown",
   "metadata": {},
   "source": [
    "**Observation**: The ConvNet went from AUROC of 0.902 to 0.926. Not bad at all!\n",
    "\n",
    "We like this so we'll save the weights for posterity"
   ]
  },
  {
   "cell_type": "code",
   "execution_count": 29,
   "metadata": {},
   "outputs": [
    {
     "name": "stdout",
     "output_type": "stream",
     "text": [
      "Saved ConvNet weights://hona01a.houston-us0380.slb.com/ud/eh17/CNN_QC_Assistant_ee71/text_files/101_Migration_Preparation_T/model_weights/20170816_13_33.h5\n"
     ]
    }
   ],
   "source": [
    "# save weights with timestamps\n",
    "path = '//hona01a.houston-us0380.slb.com/ud/eh17/CNN_QC_Assistant_ee71/text_files/101_Migration_Preparation_T/'\n",
    "file_name = 'model_weights/' + datetime.datetime.fromtimestamp(time.time()).strftime('%Y%m%d_%H_%M') + '.h5'\n",
    "model.save_weights(path + file_name, overwrite=False)\n",
    "print('Saved ConvNet weights:' + path + file_name)"
   ]
  },
  {
   "cell_type": "markdown",
   "metadata": {},
   "source": [
    "# Step 1e Train All Layers\n",
    "\n",
    "Finally, unfreeze all the layers and train them all in one go."
   ]
  },
  {
   "cell_type": "code",
   "execution_count": 31,
   "metadata": {},
   "outputs": [
    {
     "name": "stdout",
     "output_type": "stream",
     "text": [
      "0 True input_1\n",
      "1 True block1_conv1\n",
      "2 True block1_conv2\n",
      "3 True block1_pool\n",
      "4 True block2_conv1\n",
      "5 True block2_conv2\n",
      "6 True block2_pool\n",
      "7 True block6_conv1\n",
      "8 True block6_pool\n",
      "9 True dropout_1\n",
      "10 True dense_1\n",
      "11 True batch_normalization_1\n",
      "12 True activation_1\n",
      "13 True dropout_2\n",
      "14 True dense_2\n",
      "____________________________________________________________________________________________________\n",
      "Layer (type)                                 Output Shape                            Param #        \n",
      "====================================================================================================\n",
      "input_1 (InputLayer)                         (None, None, None, 3)                   0              \n",
      "____________________________________________________________________________________________________\n",
      "block1_conv1 (Conv2D)                        (None, None, None, 64)                  1792           \n",
      "____________________________________________________________________________________________________\n",
      "block1_conv2 (Conv2D)                        (None, None, None, 64)                  36928          \n",
      "____________________________________________________________________________________________________\n",
      "block1_pool (MaxPooling2D)                   (None, None, None, 64)                  0              \n",
      "____________________________________________________________________________________________________\n",
      "block2_conv1 (Conv2D)                        (None, None, None, 128)                 73856          \n",
      "____________________________________________________________________________________________________\n",
      "block2_conv2 (Conv2D)                        (None, None, None, 128)                 147584         \n",
      "____________________________________________________________________________________________________\n",
      "block2_pool (MaxPooling2D)                   (None, None, None, 128)                 0              \n",
      "____________________________________________________________________________________________________\n",
      "block6_conv1 (Conv2D)                        (None, None, None, 64)                  8256           \n",
      "____________________________________________________________________________________________________\n",
      "block6_pool (GlobalMaxPooling2D)             (None, 64)                              0              \n",
      "____________________________________________________________________________________________________\n",
      "dropout_1 (Dropout)                          (None, 64)                              0              \n",
      "____________________________________________________________________________________________________\n",
      "dense_1 (Dense)                              (None, 64)                              4160           \n",
      "____________________________________________________________________________________________________\n",
      "batch_normalization_1 (BatchNormalization)   (None, 64)                              256            \n",
      "____________________________________________________________________________________________________\n",
      "activation_1 (Activation)                    (None, 64)                              0              \n",
      "____________________________________________________________________________________________________\n",
      "dropout_2 (Dropout)                          (None, 64)                              0              \n",
      "____________________________________________________________________________________________________\n",
      "dense_2 (Dense)                              (None, 1)                               65             \n",
      "====================================================================================================\n",
      "Total params: 272,897\n",
      "Trainable params: 272,769\n",
      "Non-trainable params: 128\n",
      "____________________________________________________________________________________________________\n"
     ]
    }
   ],
   "source": [
    "# unfreeze all layers\n",
    "for i, layer in enumerate(model.layers):\n",
    "    layer.trainable = True\n",
    "\n",
    "    print(i, layer.trainable, layer.name)\n",
    "\n",
    "model.compile(optimizer=SGD(lr=0.0002, momentum=0.9), loss='binary_crossentropy')\n",
    "model.summary(line_length=100)"
   ]
  },
  {
   "cell_type": "code",
   "execution_count": 32,
   "metadata": {},
   "outputs": [
    {
     "name": "stdout",
     "output_type": "stream",
     "text": [
      "Train on 729 samples, validate on 313 samples\n",
      "Epoch 1/4\n",
      "2080s - loss: 0.5723 - val_loss: 0.6936\n",
      "Epoch 2/4\n",
      "2052s - loss: 0.4930 - val_loss: 0.6570\n",
      "Epoch 3/4\n",
      "2023s - loss: 0.4665 - val_loss: 0.6273\n",
      "Epoch 4/4\n",
      "2028s - loss: 0.5018 - val_loss: 0.6407\n"
     ]
    },
    {
     "data": {
      "text/plain": [
       "<keras.callbacks.History at 0x173e5c18>"
      ]
     },
     "execution_count": 32,
     "metadata": {},
     "output_type": "execute_result"
    }
   ],
   "source": [
    "# fine-tune all layers while keeping block1 fixed\n",
    "model.fit(X_all, Y_all, batch_size=32, epochs=4, verbose=2, shuffle=True, validation_split=0.3, sample_weight=W_all);"
   ]
  },
  {
   "cell_type": "code",
   "execution_count": 33,
   "metadata": {},
   "outputs": [
    {
     "data": {
      "text/plain": [
       "<matplotlib.legend.Legend at 0x17419fd0>"
      ]
     },
     "execution_count": 33,
     "metadata": {},
     "output_type": "execute_result"
    },
    {
     "data": {
      "image/png": "[encoded data removed]",
      "text/plain": [
       "<matplotlib.figure.Figure at 0x14829e48>"
      ]
     },
     "metadata": {},
     "output_type": "display_data"
    }
   ],
   "source": [
    "Y_predict = model.predict(X_all[-313:])\n",
    "fpr, tpr, _ = metrics.roc_curve(Y_all[-313:], Y_predict)\n",
    "plt.scatter(Y_predict, Y_all[-313:] + np.random.uniform(low=-0.02, high=0.02, size=313), s=4, label='ROC curve (area = %0.3f)' % metrics.auc(fpr, tpr));\n",
    "plt.xlim([0.0, 1.0]); plt.ylim([-0.1, 1.1]); plt.legend(loc=\"center right\");"
   ]
  },
  {
   "cell_type": "markdown",
   "metadata": {},
   "source": [
    "This round of training actually produced a worse AUROC. Maybe the training parameters are not optimal. Good thing we can backtrack!"
   ]
  }
 ],
 "metadata": {
  "kernelspec": {
   "display_name": "Python 3",
   "language": "python",
   "name": "python3"
  },
  "language_info": {
   "codemirror_mode": {
    "name": "ipython",
    "version": 3
   },
   "file_extension": ".py",
   "mimetype": "text/x-python",
   "name": "python",
   "nbconvert_exporter": "python",
   "pygments_lexer": "ipython3",
   "version": "3.5.3"
  }
 },
 "nbformat": 4,
 "nbformat_minor": 2
}
